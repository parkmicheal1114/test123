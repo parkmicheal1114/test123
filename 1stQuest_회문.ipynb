{
  "nbformat": 4,
  "nbformat_minor": 0,
  "metadata": {
    "colab": {
      "provenance": [],
      "include_colab_link": true
    },
    "kernelspec": {
      "name": "python3",
      "display_name": "Python 3"
    },
    "language_info": {
      "name": "python"
    }
  },
  "cells": [
    {
      "cell_type": "markdown",
      "metadata": {
        "id": "view-in-github",
        "colab_type": "text"
      },
      "source": [
        "<a href=\"https://colab.research.google.com/github/parkmicheal1114/test123/blob/main/1stQuest_%ED%9A%8C%EB%AC%B8.ipynb\" target=\"_parent\"><img src=\"https://colab.research.google.com/assets/colab-badge.svg\" alt=\"Open In Colab\"/></a>"
      ]
    },
    {
      "cell_type": "markdown",
      "source": [
        "1 . 퀘스트 ( 코어 )\n",
        "\n",
        "[파이썬] 퀘스트: 회문인지 아닌지 확인하는 프로그램\n",
        "\n",
        "난이도: ★☆☆☆☆\n",
        "\n",
        "장르: 자료형, 제어문, 함수\n",
        "\n",
        "---\n",
        "* 회문이란? : 앞에서부터 읽어도 뒤에서부터 읽어도 같은 단어, 구, 문장, 숫자, 혹은 문단\n",
        "\n",
        "입력값으로 \"우성우\"를 넣었을 때 출력값은 아래와 같이 나와야한다.\n",
        "다음 조건을 확인하는 회문 함수를 만들어보자!\n",
        "\n",
        "조건 :\n",
        "단어를 입력받을 수 있게 한다.\n",
        "입력된 단어를 뒤집어서 출력할 수 있게 한다.\n",
        "입력된 단어가 회문이 맞는지 확인하여 출력할 수 있게 한다.\n",
        "자료형, 제어문, 함수를 활용한다.\n",
        "\n",
        "---\n",
        "\n",
        "입력값 : 우성우\n",
        "\n",
        "출력값 : \n",
        "뒤집힌 단어는: 우성우\n",
        "입력된 단어는 회문입니다.\n"
      ],
      "metadata": {
        "id": "akMFd8K1A75y"
      }
    },
    {
      "cell_type": "code",
      "source": [
        "word = str(input())"
      ],
      "metadata": {
        "colab": {
          "base_uri": "https://localhost:8080/"
        },
        "id": "pP1b_TjSA6ys",
        "outputId": "bfd2ae8d-e0f0-4c53-ee48-501fd9d44d43"
      },
      "execution_count": null,
      "outputs": [
        {
          "name": "stdout",
          "output_type": "stream",
          "text": [
            "우성우\n"
          ]
        }
      ]
    },
    {
      "cell_type": "code",
      "source": [
        "word_reverse = word.so\n",
        "word = str(input())\n",
        ".split"
      ],
      "metadata": {
        "id": "VJj8EK2CMKTS",
        "colab": {
          "base_uri": "https://localhost:8080/",
          "height": 137
        },
        "outputId": "1d267788-f463-44fd-b915-9ada560121e9"
      },
      "execution_count": null,
      "outputs": [
        {
          "output_type": "error",
          "ename": "SyntaxError",
          "evalue": "ignored",
          "traceback": [
            "\u001b[0;36m  File \u001b[0;32m\"<ipython-input-1-dd43c22800c1>\"\u001b[0;36m, line \u001b[0;32m2\u001b[0m\n\u001b[0;31m    for i\u001b[0m\n\u001b[0m         ^\u001b[0m\n\u001b[0;31mSyntaxError\u001b[0m\u001b[0;31m:\u001b[0m invalid syntax\n"
          ]
        }
      ]
    },
    {
      "cell_type": "code",
      "source": [
        "word=str(input())\n",
        "a = list(word)\n",
        "\n",
        "for i in range(len(a)):\n",
        "  if a[i]==a[-1-i]:\n",
        "    pass\n",
        "  else:\n",
        "    print(f'뒤집힌 단어는: {word}는 입력된 단어는 회문이 아닙니다')\n",
        "    break\n",
        "    \n",
        "print (f'뒤집힌 단어는: {word}는 입력된 단어는 회문입니다.')     \n",
        "\n",
        "\n",
        "   \n"
      ],
      "metadata": {
        "colab": {
          "base_uri": "https://localhost:8080/"
        },
        "id": "o9rgI3WPP-AD",
        "outputId": "ff01f281-85ab-4d1f-9b3e-80c0fc1feba6"
      },
      "execution_count": null,
      "outputs": [
        {
          "output_type": "stream",
          "name": "stdout",
          "text": [
            "박기용\n",
            "뒤집힌 단어는: 박기용는 입력된 단어는 회문이 아닙니다\n",
            "뒤집힌 단어는: 박기용는 입력된 단어는 회문입니다.\n"
          ]
        }
      ]
    },
    {
      "cell_type": "code",
      "source": [
        "\n",
        "word=str(input())\n",
        "a = list(word)\n",
        "while i in range(len(a)):\n",
        "    if a[i]!=a[-1-i]:\n",
        "       print('회문이 아닙니다')\n",
        "    else:\n",
        "       print('회문이 맞습니다')\n",
        "    break"
      ],
      "metadata": {
        "id": "WirLoXcCTc4D",
        "colab": {
          "base_uri": "https://localhost:8080/"
        },
        "outputId": "c7cf02d8-b74f-489b-a713-b9c4ca646e1e"
      },
      "execution_count": null,
      "outputs": [
        {
          "output_type": "stream",
          "name": "stdout",
          "text": [
            "우성우\n",
            "회문이 맞습니다\n"
          ]
        }
      ]
    },
    {
      "cell_type": "code",
      "source": [
        "# 박기용 작성 \n",
        "# 전체 단어 확인.\n",
        "word=str(input())\n",
        "a = list(word)\n",
        "b = []\n",
        "for i in range(len(a)):\n",
        "  b.append(a[-1-i])\n",
        "print(b)\n",
        "if a == b:\n",
        "  print (f'뒤집힌 단어는: {word}는 입력된 단어는 회문입니다.')\n",
        "else:\n",
        "  print(f'뒤집힌 단어는: {word}는 입력된 단어는 회문이 아닙니다')"
      ],
      "metadata": {
        "colab": {
          "base_uri": "https://localhost:8080/"
        },
        "id": "k3_f5iuPjc52",
        "outputId": "f5172f28-9f51-4d29-c965-6624919014f8"
      },
      "execution_count": null,
      "outputs": [
        {
          "output_type": "stream",
          "name": "stdout",
          "text": [
            "박기용\n",
            "['용', '기', '박']\n",
            "뒤집힌 단어는: 박기용는 입력된 단어는 회문이 아닙니다\n"
          ]
        }
      ]
    }
  ]
}